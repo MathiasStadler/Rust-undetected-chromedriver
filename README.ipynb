{
 "cells": [
  {
   "cell_type": "markdown",
   "metadata": {},
   "source": [
    "xvfb-run --auto-servernum --server-num=1 xlogo"
   ]
  },
  {
   "cell_type": "markdown",
   "metadata": {},
   "source": [
    "cargo test -- --list"
   ]
  },
  {
   "cell_type": "markdown",
   "metadata": {},
   "source": [
    "cargo test -- recaptcha"
   ]
  },
  {
   "cell_type": "markdown",
   "metadata": {},
   "source": [
    "xvfb-run --auto-servernum --server-num=1 cargo test -- recaptcha"
   ]
  },
  {
   "cell_type": "markdown",
   "metadata": {},
   "source": [
    "xvfb-run --auto-servernum --server-num=1 xlogo"
   ]
  }
 ],
 "metadata": {
  "language_info": {
   "name": "python"
  },
  "orig_nbformat": 4
 },
 "nbformat": 4,
 "nbformat_minor": 2
}
